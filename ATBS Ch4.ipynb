{
 "cells": [
  {
   "cell_type": "code",
   "execution_count": 4,
   "metadata": {},
   "outputs": [
    {
     "name": "stdout",
     "output_type": "stream",
     "text": [
      "['hello', 3.1415, True, None, 42]\n"
     ]
    }
   ],
   "source": [
    "# List Data Type, can hold different variable types\n",
    "list1 = [1,2,3]\n",
    "list2 = ['cat', 'bat', 'rat', 'elephant']\n",
    "list3 = ['hello', 3.1415, True, None, 42]\n",
    "print(list3)"
   ]
  },
  {
   "cell_type": "code",
   "execution_count": 6,
   "metadata": {},
   "outputs": [
    {
     "name": "stdout",
     "output_type": "stream",
     "text": [
      "hello\n",
      "3.1415\n",
      "True\n",
      "None\n",
      "42\n"
     ]
    },
    {
     "ename": "IndexError",
     "evalue": "list index out of range",
     "output_type": "error",
     "traceback": [
      "\u001b[1;31m---------------------------------------------------------------------------\u001b[0m",
      "\u001b[1;31mIndexError\u001b[0m                                Traceback (most recent call last)",
      "\u001b[1;32m<ipython-input-6-5a6e73cba318>\u001b[0m in \u001b[0;36m<module>\u001b[1;34m()\u001b[0m\n\u001b[0;32m      4\u001b[0m \u001b[0mprint\u001b[0m\u001b[1;33m(\u001b[0m\u001b[0mlist3\u001b[0m\u001b[1;33m[\u001b[0m\u001b[1;36m3\u001b[0m\u001b[1;33m]\u001b[0m\u001b[1;33m)\u001b[0m\u001b[1;33m\u001b[0m\u001b[0m\n\u001b[0;32m      5\u001b[0m \u001b[0mprint\u001b[0m\u001b[1;33m(\u001b[0m\u001b[0mlist3\u001b[0m\u001b[1;33m[\u001b[0m\u001b[1;36m4\u001b[0m\u001b[1;33m]\u001b[0m\u001b[1;33m)\u001b[0m\u001b[1;33m\u001b[0m\u001b[0m\n\u001b[1;32m----> 6\u001b[1;33m \u001b[0mprint\u001b[0m\u001b[1;33m(\u001b[0m\u001b[0mlist3\u001b[0m\u001b[1;33m[\u001b[0m\u001b[1;36m5\u001b[0m\u001b[1;33m]\u001b[0m\u001b[1;33m)\u001b[0m\u001b[1;33m\u001b[0m\u001b[0m\n\u001b[0m",
      "\u001b[1;31mIndexError\u001b[0m: list index out of range"
     ]
    }
   ],
   "source": [
    "print(list3[0])\n",
    "print(list3[1])\n",
    "print(list3[2])\n",
    "print(list3[3])\n",
    "print(list3[4])\n",
    "print(list3[5]) # Python lists begin indexing at 0"
   ]
  },
  {
   "cell_type": "code",
   "execution_count": 7,
   "metadata": {},
   "outputs": [
    {
     "ename": "TypeError",
     "evalue": "list indices must be integers or slices, not float",
     "output_type": "error",
     "traceback": [
      "\u001b[1;31m---------------------------------------------------------------------------\u001b[0m",
      "\u001b[1;31mTypeError\u001b[0m                                 Traceback (most recent call last)",
      "\u001b[1;32m<ipython-input-7-7447a11bec5d>\u001b[0m in \u001b[0;36m<module>\u001b[1;34m()\u001b[0m\n\u001b[1;32m----> 1\u001b[1;33m \u001b[0mlist3\u001b[0m\u001b[1;33m[\u001b[0m\u001b[1;36m1.0\u001b[0m\u001b[1;33m]\u001b[0m\u001b[1;33m\u001b[0m\u001b[0m\n\u001b[0m",
      "\u001b[1;31mTypeError\u001b[0m: list indices must be integers or slices, not float"
     ]
    }
   ],
   "source": [
    "list3[1.0]"
   ]
  },
  {
   "cell_type": "code",
   "execution_count": 8,
   "metadata": {},
   "outputs": [
    {
     "name": "stdout",
     "output_type": "stream",
     "text": [
      "[1, 2, 3]\n",
      "2\n",
      "elephant\n"
     ]
    }
   ],
   "source": [
    "# lists can be made of lists\n",
    "list1 = [1,2,3]\n",
    "list2 = ['cat', 'bat', 'rat', 'elephant']\n",
    "listoflist = [list1, list2] \n",
    "print(listoflist[0])\n",
    "print(listoflist[0][1])\n",
    "print(listoflist[1][3])"
   ]
  },
  {
   "cell_type": "code",
   "execution_count": 9,
   "metadata": {},
   "outputs": [
    {
     "data": {
      "text/plain": [
       "3"
      ]
     },
     "execution_count": 9,
     "metadata": {},
     "output_type": "execute_result"
    }
   ],
   "source": [
    "# list negative indexes\n",
    "print(list1[-1]) # prints last element of list"
   ]
  },
  {
   "cell_type": "code",
   "execution_count": 12,
   "metadata": {},
   "outputs": [
    {
     "name": "stdout",
     "output_type": "stream",
     "text": [
      "['cat', 'bat']\n",
      "['cat', 'bat', 'rat']\n",
      "['bat', 'rat', 'elephant']\n",
      "['cat', 'bat', 'rat', 'elephant']\n"
     ]
    }
   ],
   "source": [
    "# can print parts of lists\n",
    "spam = ['cat', 'bat', 'rat', 'elephant'] \n",
    "print(spam[0:2]) # prints elements 0 and 1\n",
    "print(spam[0:-1])\n",
    "print(spam[1:])\n",
    "print(spam[:])"
   ]
  },
  {
   "cell_type": "code",
   "execution_count": 13,
   "metadata": {},
   "outputs": [
    {
     "data": {
      "text/plain": [
       "4"
      ]
     },
     "execution_count": 13,
     "metadata": {},
     "output_type": "execute_result"
    }
   ],
   "source": [
    "spam = ['cat', 'bat', 'rat', 'elephant'] \n",
    "len(spam) # gets length of list"
   ]
  },
  {
   "cell_type": "code",
   "execution_count": 14,
   "metadata": {},
   "outputs": [
    {
     "name": "stdout",
     "output_type": "stream",
     "text": [
      "['cat', 'bat', 'rat', 'elephant']\n",
      "['dog', 'bat', 'rat', 'elephant']\n"
     ]
    }
   ],
   "source": [
    "# Replacing an element in a list\n",
    "spam = ['cat', 'bat', 'rat', 'elephant'] \n",
    "print(spam)\n",
    "spam[0] = 'dog'\n",
    "print(spam)"
   ]
  },
  {
   "cell_type": "code",
   "execution_count": 4,
   "metadata": {},
   "outputs": [
    {
     "name": "stdout",
     "output_type": "stream",
     "text": [
      "[1, 2, 3, 'A', 'B', 'C']\n",
      "['X', 'Y', 'Z', 'X', 'Y', 'Z', 'X', 'Y', 'Z']\n",
      "[1, 2, 3, 'A', 'B', 'C']\n"
     ]
    }
   ],
   "source": [
    "# List concatenation and list replication\n",
    "print([1,2,3] + ['A', 'B', 'C'])\n",
    "print(['X','Y','Z'] * 3)\n",
    "spam = [1,2,3]\n",
    "spam = spam + ['A','B','C']\n",
    "print(spam)"
   ]
  },
  {
   "cell_type": "code",
   "execution_count": 6,
   "metadata": {},
   "outputs": [
    {
     "name": "stdout",
     "output_type": "stream",
     "text": [
      "['cat', 'bat', 'elephant']\n",
      "['cat', 'bat']\n"
     ]
    }
   ],
   "source": [
    "# Removing values from list with \"del\" statement\n",
    "spam = ['cat', 'bat', 'rat', 'elephant']\n",
    "del spam[2]\n",
    "print(spam)\n",
    "del spam[2]\n",
    "print(spam)"
   ]
  },
  {
   "cell_type": "code",
   "execution_count": 9,
   "metadata": {},
   "outputs": [
    {
     "name": "stdout",
     "output_type": "stream",
     "text": [
      "Enter the name of cat 1 (Or enter nothing to stop.):\n",
      "alice\n",
      "Enter the name of cat 2 (Or enter nothing to stop.):\n",
      "ant\n",
      "Enter the name of cat 3 (Or enter nothing to stop.):\n",
      "becca\n",
      "Enter the name of cat 4 (Or enter nothing to stop.):\n",
      "\n",
      "The cat names are:\n",
      " alice\n",
      " ant\n",
      " becca\n"
     ]
    }
   ],
   "source": [
    "catNames = []\n",
    "while True:\n",
    "    print('Enter the name of cat ' + str(len(catNames) + 1) + ' (Or enter nothing to stop.):')\n",
    "    name = input()\n",
    "    if name == '':\n",
    "        break\n",
    "    catNames = catNames + [name]\n",
    "print('The cat names are:')\n",
    "for name in catNames:\n",
    "    print(' ' + name)"
   ]
  },
  {
   "cell_type": "code",
   "execution_count": 10,
   "metadata": {},
   "outputs": [
    {
     "name": "stdout",
     "output_type": "stream",
     "text": [
      "0\n",
      "1\n",
      "2\n",
      "3\n"
     ]
    }
   ],
   "source": [
    "for i in [0, 1, 2, 3]:\n",
    "    print(i)"
   ]
  },
  {
   "cell_type": "code",
   "execution_count": 11,
   "metadata": {},
   "outputs": [
    {
     "name": "stdout",
     "output_type": "stream",
     "text": [
      "Index 0 in supplies is: pens\n",
      "Index 1 in supplies is: staplers\n",
      "Index 2 in supplies is: flame-throwers\n",
      "Index 3 in supplies is: binders\n"
     ]
    }
   ],
   "source": [
    "supplies = ['pens', 'staplers', 'flame-throwers', 'binders']\n",
    "for i in range(len(supplies)):\n",
    "    print('Index ' + str(i) + ' in supplies is: ' + supplies[i])"
   ]
  },
  {
   "cell_type": "code",
   "execution_count": 13,
   "metadata": {},
   "outputs": [
    {
     "name": "stdout",
     "output_type": "stream",
     "text": [
      "False\n",
      "True\n"
     ]
    }
   ],
   "source": [
    "spam = ['hello', 'hi', 'howdy', 'heyas']\n",
    "print('cat' in spam)\n",
    "print('cat' not in spam)"
   ]
  },
  {
   "cell_type": "code",
   "execution_count": 14,
   "metadata": {},
   "outputs": [
    {
     "name": "stdout",
     "output_type": "stream",
     "text": [
      "Enter a pet name:\n",
      "Zophie\n",
      "Zophie is my pet.\n"
     ]
    }
   ],
   "source": [
    "myPets = ['Zophie', 'Pooka', 'Fat-tail']\n",
    "print('Enter a pet name:')\n",
    "name = input()\n",
    "if name not in myPets:\n",
    "    print('I do not have a pet named ' + name)\n",
    "else:\n",
    "    print(name + ' is my pet.')"
   ]
  },
  {
   "cell_type": "code",
   "execution_count": 17,
   "metadata": {},
   "outputs": [
    {
     "name": "stdout",
     "output_type": "stream",
     "text": [
      "fat\n",
      "orange\n",
      "loud\n",
      "fat\n",
      "orange\n",
      "loud\n"
     ]
    },
    {
     "ename": "ValueError",
     "evalue": "not enough values to unpack (expected 4, got 3)",
     "output_type": "error",
     "traceback": [
      "\u001b[1;31m---------------------------------------------------------------------------\u001b[0m",
      "\u001b[1;31mValueError\u001b[0m                                Traceback (most recent call last)",
      "\u001b[1;32m<ipython-input-17-13b275401a09>\u001b[0m in \u001b[0;36m<module>\u001b[1;34m()\u001b[0m\n\u001b[0;32m     12\u001b[0m \u001b[0mprint\u001b[0m\u001b[1;33m(\u001b[0m\u001b[0mdisposition2\u001b[0m\u001b[1;33m)\u001b[0m\u001b[1;33m\u001b[0m\u001b[0m\n\u001b[0;32m     13\u001b[0m \u001b[1;33m\u001b[0m\u001b[0m\n\u001b[1;32m---> 14\u001b[1;33m \u001b[0msize2\u001b[0m\u001b[1;33m,\u001b[0m \u001b[0mcolor2\u001b[0m\u001b[1;33m,\u001b[0m \u001b[0mdisposition2\u001b[0m\u001b[1;33m,\u001b[0m \u001b[0mname\u001b[0m \u001b[1;33m=\u001b[0m \u001b[0mcat\u001b[0m \u001b[1;31m# number of variables and list must match\u001b[0m\u001b[1;33m\u001b[0m\u001b[0m\n\u001b[0m",
      "\u001b[1;31mValueError\u001b[0m: not enough values to unpack (expected 4, got 3)"
     ]
    }
   ],
   "source": [
    "# Multiple Assignment Trick\n",
    "cat = ['fat','orange','loud']\n",
    "size = cat[0]\n",
    "color = cat[1]\n",
    "disposition = cat[2]\n",
    "\n",
    "size2, color2, disposition2 = cat\n",
    "print(size)\n",
    "print(color)\n",
    "print(disposition)\n",
    "print(size2)\n",
    "print(color2)\n",
    "print(disposition2)\n",
    "\n",
    "size2, color2, disposition2, name = cat # number of variables and list must match"
   ]
  },
  {
   "cell_type": "code",
   "execution_count": 18,
   "metadata": {},
   "outputs": [
    {
     "name": "stdout",
     "output_type": "stream",
     "text": [
      "Alice\n",
      "Bob\n",
      "Bob\n",
      "Alice\n"
     ]
    }
   ],
   "source": [
    "# Swap values in two variables\n",
    "a, b = 'Alice', 'Bob'\n",
    "print(a)\n",
    "print(b)\n",
    "a, b = b, a\n",
    "print(a)\n",
    "print(b)"
   ]
  },
  {
   "cell_type": "code",
   "execution_count": 19,
   "metadata": {},
   "outputs": [
    {
     "name": "stdout",
     "output_type": "stream",
     "text": [
      "43\n",
      "43\n",
      "Hello World!\n",
      "['Zophie', 'Zophie', 'Zophie']\n"
     ]
    }
   ],
   "source": [
    "spam = 42\n",
    "spam = spam + 1\n",
    "print(spam)\n",
    "\n",
    "spam2 = 42\n",
    "spam2 += 1\n",
    "print(spam2)\n",
    "\n",
    "# spam += 1 == spam = spam + 1\n",
    "# spam -= 1 == spam = spam - 1\n",
    "# spam *= 1 == spam = spam * 1\n",
    "# spam /= 1 == spam = spam / 1\n",
    "# spam %= 1 == spam = spam % 1\n",
    "\n",
    "spam = 'Hello'\n",
    "spam += ' World!'\n",
    "print(spam)\n",
    "\n",
    "bacon = ['Zophie']\n",
    "bacon *= 3\n",
    "print(bacon)"
   ]
  },
  {
   "cell_type": "code",
   "execution_count": 24,
   "metadata": {},
   "outputs": [
    {
     "name": "stdout",
     "output_type": "stream",
     "text": [
      "0\n",
      "3\n",
      "0\n"
     ]
    }
   ],
   "source": [
    "# Methods are the same as a function, except it is \"called on\" by a value\n",
    "spam = ['hello', 'hi', 'howdy', 'heyas']\n",
    "print(spam.index('hello'))\n",
    "print(spam.index('heyas'))\n",
    "# print(spam.index('im not in this list')) # this will give an error\n",
    "\n",
    "# if a list has repeat values, index() will only output the first index\n",
    "spam = ['hello','hi','howdy','heyas','hello']\n",
    "print(spam.index('hello'))\n"
   ]
  },
  {
   "cell_type": "code",
   "execution_count": 26,
   "metadata": {},
   "outputs": [
    {
     "name": "stdout",
     "output_type": "stream",
     "text": [
      "['cat', 'dog', 'bat', 'moose']\n",
      "['cat', 'chicken', 'dog', 'bat']\n"
     ]
    }
   ],
   "source": [
    "# append() and insert() modifies the list \"in place\"\n",
    "# these methods can only be used on lists\n",
    "spam = ['cat','dog','bat']\n",
    "spam.append('moose')\n",
    "print(spam)\n",
    "\n",
    "spam = ['cat','dog','bat']\n",
    "spam.insert(1, 'chicken')\n",
    "print(spam)\n"
   ]
  },
  {
   "cell_type": "code",
   "execution_count": 28,
   "metadata": {},
   "outputs": [
    {
     "name": "stdout",
     "output_type": "stream",
     "text": [
      "['cat', 'rat', 'elephant']\n",
      "['cat', 'bat', 'elephant', 'rat']\n"
     ]
    }
   ],
   "source": [
    "spam = ['cat','bat','rat','elephant']\n",
    "spam.remove('bat')\n",
    "print(spam)\n",
    "\n",
    "# if there are multiple values with same value, only first instance is removed\n",
    "spam = ['cat','bat','rat','elephant','rat']\n",
    "spam.remove('rat')\n",
    "print(spam)"
   ]
  },
  {
   "cell_type": "code",
   "execution_count": 32,
   "metadata": {},
   "outputs": [
    {
     "name": "stdout",
     "output_type": "stream",
     "text": [
      "[-1, 2, 3.14, 5, 10, 100]\n",
      "['ant', 'badgers', 'cats', 'dogs', 'elephants']\n",
      "['elephants', 'dogs', 'cats', 'badgers', 'ant']\n",
      "['Alice', 'Bob', 'Carol', 'ants', 'cats']\n",
      "['Alice', 'ants', 'Bob', 'Carol', 'cats']\n"
     ]
    }
   ],
   "source": [
    "# Sorting values in a list with sort() method\n",
    "spam = [2, 5, 3.14, 10, -1, 100]\n",
    "spam.sort()\n",
    "print(spam)\n",
    "\n",
    "spam2 = ['ant', 'cats', 'dogs', 'badgers', 'elephants']\n",
    "spam2.sort()\n",
    "print(spam2)\n",
    "\n",
    "spam3 = ['ant', 'cats', 'dogs', 'badgers', 'elephants']\n",
    "spam3.sort(reverse = True)\n",
    "print(spam3)\n",
    "\n",
    "# sort() uses ASCIIbetical order rather than actual alphabetical order for strings\n",
    "# which means capital letters come before lower-case letters\n",
    "spam = ['Alice', 'ants', 'Bob', 'Carol', 'cats']\n",
    "spam.sort()\n",
    "print(spam)\n",
    "\n",
    "# if you need to sort by regular alphabetical order, pass str.lower for key\n",
    "spam = ['Alice', 'ants', 'Bob', 'Carol', 'cats']\n",
    "spam.sort(key=str.lower)\n",
    "print(spam)"
   ]
  },
  {
   "cell_type": "code",
   "execution_count": 34,
   "metadata": {},
   "outputs": [
    {
     "name": "stdout",
     "output_type": "stream",
     "text": [
      "It is decidely so\n"
     ]
    }
   ],
   "source": [
    "import random\n",
    "messages = ['It is certain',\n",
    "           'It is decidely so',\n",
    "           'Yes definitely',\n",
    "           'Reply hazy try again',\n",
    "           'Ask again later',\n",
    "            'Concentrate and ask again',\n",
    "           'My reply is no',\n",
    "           'Outlook not so good',\n",
    "           'Very doubtful']\n",
    "print(messages[random.randint(0, len(messages) - 1)])"
   ]
  },
  {
   "cell_type": "code",
   "execution_count": 35,
   "metadata": {},
   "outputs": [
    {
     "name": "stdout",
     "output_type": "stream",
     "text": [
      "['apples', 'oranges', 'bananas', 'cats']\n"
     ]
    }
   ],
   "source": [
    "# indentation of a list does not matter until it sees the ending square bracket\n",
    "spam = ['apples',\n",
    "    'oranges',        'bananas',\n",
    "       'cats']\n",
    "print(spam)"
   ]
  },
  {
   "cell_type": "code",
   "execution_count": 39,
   "metadata": {},
   "outputs": [
    {
     "name": "stdout",
     "output_type": "stream",
     "text": [
      "Four score and seven years ago\n"
     ]
    }
   ],
   "source": [
    "# can split up a single instruction across multiple lines using the \\ line\n",
    "print('Four score and seven ' +\\\n",
    "      'years ago')"
   ]
  },
  {
   "cell_type": "code",
   "execution_count": 40,
   "metadata": {},
   "outputs": [
    {
     "name": "stdout",
     "output_type": "stream",
     "text": [
      "Z\n",
      "i\n",
      "Zoph\n",
      "True\n",
      "False\n",
      "*** Z ***\n",
      "*** o ***\n",
      "*** p ***\n",
      "*** h ***\n",
      "*** i ***\n",
      "*** e ***\n"
     ]
    }
   ],
   "source": [
    "# List-like types: Strings and Tuples\n",
    "name = 'Zophie'\n",
    "print(name[0])\n",
    "print(name[-2])\n",
    "print(name[0:4])\n",
    "print('Zo' in name)\n",
    "print('z' in name)\n",
    "for i in name:\n",
    "    print('*** ' + i + ' ***')\n",
    "    "
   ]
  },
  {
   "cell_type": "code",
   "execution_count": 44,
   "metadata": {},
   "outputs": [
    {
     "name": "stdout",
     "output_type": "stream",
     "text": [
      "Zophie a cat\n",
      "Zophie the cat\n",
      "[4, 5, 6]\n",
      "[4, 5, 6]\n"
     ]
    }
   ],
   "source": [
    "# Mutable and Immutable Data Types\n",
    "name = 'Zophie a cat'\n",
    "#name[7] = 'the' # strings do not support modification (it is immutable)\n",
    "newName = name[0:7] + 'the' + name[8:12]\n",
    "print(name)\n",
    "print(newName)\n",
    "\n",
    "eggs = [1, 2, 3]\n",
    "eggs = [4, 5, 6] # this does not modify the list, but reassigns an entirely new list\n",
    "print(eggs)\n",
    "\n",
    "# to modify the original list\n",
    "eggs = [1, 2, 3]\n",
    "del eggs[2]\n",
    "del eggs[1]\n",
    "del eggs[0]\n",
    "eggs.append(4)\n",
    "eggs.append(5)\n",
    "eggs.append(6)\n",
    "print(eggs)\n",
    "         "
   ]
  },
  {
   "cell_type": "code",
   "execution_count": 47,
   "metadata": {},
   "outputs": [
    {
     "name": "stdout",
     "output_type": "stream",
     "text": [
      "hello\n",
      "(42, 0.5)\n",
      "3\n"
     ]
    },
    {
     "data": {
      "text/plain": [
       "tuple"
      ]
     },
     "execution_count": 47,
     "metadata": {},
     "output_type": "execute_result"
    }
   ],
   "source": [
    "# Tuple Data Type\n",
    "# A tuple is the same as a list, but a tuple is immutable\n",
    "eggs = ('hello', 42, 0.5)\n",
    "print(eggs[0])\n",
    "print(eggs[1:3])\n",
    "print(len(eggs))\n",
    "\n",
    "#eggs[1] = 99 # TypeError: 'tuple' object does not support item assignment\n",
    "\n",
    "# To generate a single element tuple, use comma after\n",
    "eggs = ('hello',)\n",
    "type(eggs)\n",
    "\n",
    "# Tuples can be used to indicate that this sequence of values are not intended\n",
    "# to change."
   ]
  },
  {
   "cell_type": "code",
   "execution_count": 51,
   "metadata": {},
   "outputs": [
    {
     "name": "stdout",
     "output_type": "stream",
     "text": [
      "['cat', 'dog', 5]\n",
      "('cat', 'dog', 5)\n"
     ]
    },
    {
     "data": {
      "text/plain": [
       "['h', 'e', 'l', 'l', 'o']"
      ]
     },
     "execution_count": 51,
     "metadata": {},
     "output_type": "execute_result"
    }
   ],
   "source": [
    "spam = ('cat','dog', 5)\n",
    "spamlist = list(spam)\n",
    "spamtuple = tuple(spamlist)\n",
    "print(spamlist)\n",
    "print(spamtuple)\n",
    "list('hello')\n"
   ]
  },
  {
   "cell_type": "code",
   "execution_count": 52,
   "metadata": {},
   "outputs": [
    {
     "name": "stdout",
     "output_type": "stream",
     "text": [
      "[0, 'hello', 2, 3, 4, 5]\n",
      "[0, 'hello', 2, 3, 4, 5]\n"
     ]
    }
   ],
   "source": [
    "# References\n",
    "spam = [0, 1, 2, 3, 4, 5]\n",
    "cheese = spam\n",
    "cheese[1] = 'hello'\n",
    "print(spam)\n",
    "print(cheese)\n",
    "# Output\n",
    "# [0, 'hello', 2, 3, 4, 5]\n",
    "# [0, 'hello', 2, 3, 4, 5]\n",
    "# spam and cheese both contain references to the list [0,1,2,3,4,5], not an\n",
    "# actual copy of the list -- so when cheese[1] was modified, the referred list\n",
    "# was changed. Since spam also refers to the original list, it also outputs the\n",
    "# same values\n"
   ]
  },
  {
   "cell_type": "code",
   "execution_count": 53,
   "metadata": {},
   "outputs": [
    {
     "name": "stdout",
     "output_type": "stream",
     "text": [
      "[1, 2, 3, 'hello']\n"
     ]
    }
   ],
   "source": [
    "def eggs(someParameter):\n",
    "    someParameter.append('hello')\n",
    "\n",
    "spam = [1, 2, 3]\n",
    "eggs(spam)\n",
    "print(spam)"
   ]
  },
  {
   "cell_type": "code",
   "execution_count": 56,
   "metadata": {},
   "outputs": [
    {
     "name": "stdout",
     "output_type": "stream",
     "text": [
      "['A', 'B', 'C', 'D']\n",
      "['A', 42, 'C', 'D']\n",
      "[[1, 2, 3], ['A', 'B', 'C']]\n",
      "[[1, 2, 3], [4, 5, 6]]\n"
     ]
    }
   ],
   "source": [
    "# Copy module\n",
    "import copy\n",
    "spam = ['A', 'B', 'C', 'D']\n",
    "cheese = copy.copy(spam)\n",
    "cheese[1] = 42\n",
    "print(spam)\n",
    "print(cheese)\n",
    "\n",
    "# Deep copy function used to copy a list with lists\n",
    "spam2 = [[1,2,3],['A','B','C']]\n",
    "cheese2 = copy.deepcopy(spam2)\n",
    "cheese2[1] = [4,5,6]\n",
    "print(spam2)\n",
    "print(cheese2)"
   ]
  },
  {
   "cell_type": "code",
   "execution_count": 63,
   "metadata": {},
   "outputs": [
    {
     "name": "stdout",
     "output_type": "stream",
     "text": [
      "apples, bananas, tofu, and cats\n"
     ]
    }
   ],
   "source": [
    "def genString(theList):\n",
    "    counter = len(theList)\n",
    "    string = ''\n",
    "    for i in range(counter):\n",
    "        if i < counter - 1:\n",
    "            string += theList[i] + ', '\n",
    "        else:\n",
    "            string += 'and ' + theList[i]\n",
    "    print(string)\n",
    "        \n",
    "spam = ['apples', 'bananas', 'tofu', 'cats']\n",
    "genString(spam)"
   ]
  },
  {
   "cell_type": "code",
   "execution_count": 70,
   "metadata": {},
   "outputs": [
    {
     "name": "stdout",
     "output_type": "stream",
     "text": [
      "..OO.OO..\n",
      ".OOOOOOO.\n",
      ".OOOOOOO.\n",
      "..OOOOO..\n",
      "...OOO...\n",
      "....O....\n"
     ]
    }
   ],
   "source": [
    "grid = [['.', '.', '.', '.', '.', '.'],\n",
    "        ['.', 'O', 'O', '.', '.', '.'],\n",
    "        ['O', 'O', 'O', 'O', '.', '.'],\n",
    "        ['O', 'O', 'O', 'O', 'O', '.'],\n",
    "        ['.', 'O', 'O', 'O', 'O', 'O'],\n",
    "        ['O', 'O', 'O', 'O', 'O', '.'],\n",
    "        ['O', 'O', 'O', 'O', '.', '.'],\n",
    "        ['.', 'O', 'O', '.', '.', '.'],\n",
    "        ['.', '.', '.', '.', '.', '.']]\n",
    "\n",
    "for i in range(6):\n",
    "    for j in range(9):\n",
    "        if j < 8:\n",
    "            print(grid[j][i],end='')\n",
    "        else:\n",
    "            print(grid[j][i])\n",
    "            \n",
    "        "
   ]
  },
  {
   "cell_type": "code",
   "execution_count": 65,
   "metadata": {},
   "outputs": [
    {
     "data": {
      "text/plain": [
       "range(0, 9)"
      ]
     },
     "execution_count": 65,
     "metadata": {},
     "output_type": "execute_result"
    }
   ],
   "source": []
  },
  {
   "cell_type": "code",
   "execution_count": null,
   "metadata": {},
   "outputs": [],
   "source": []
  }
 ],
 "metadata": {
  "kernelspec": {
   "display_name": "Python 3",
   "language": "python",
   "name": "python3"
  },
  "language_info": {
   "codemirror_mode": {
    "name": "ipython",
    "version": 3
   },
   "file_extension": ".py",
   "mimetype": "text/x-python",
   "name": "python",
   "nbconvert_exporter": "python",
   "pygments_lexer": "ipython3",
   "version": "3.6.5"
  }
 },
 "nbformat": 4,
 "nbformat_minor": 2
}
