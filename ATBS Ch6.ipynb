{
 "cells": [
  {
   "cell_type": "code",
   "execution_count": 3,
   "metadata": {},
   "outputs": [
    {
     "name": "stdout",
     "output_type": "stream",
     "text": [
      "That is Alice's cat.\n"
     ]
    }
   ],
   "source": [
    "spam = \"That is Alice's cat.\"\n",
    "print(spam)"
   ]
  },
  {
   "cell_type": "code",
   "execution_count": 4,
   "metadata": {},
   "outputs": [
    {
     "name": "stdout",
     "output_type": "stream",
     "text": [
      "Say hi to Bob's mother.\n"
     ]
    }
   ],
   "source": [
    "# \\ is an escape character\n",
    "# You can use the following:\n",
    "# \\' single quote\n",
    "# \\\" double quote\n",
    "# \\t tab\n",
    "# \\n newline (linebreak)\n",
    "# \\\\ backslash\n",
    "\n",
    "spam = 'Say hi to Bob\\'s mother.'\n",
    "print(spam)\n"
   ]
  },
  {
   "cell_type": "code",
   "execution_count": 5,
   "metadata": {},
   "outputs": [
    {
     "name": "stdout",
     "output_type": "stream",
     "text": [
      "Hello there!\n",
      "How are you?\n",
      "I'm doing fine.\n"
     ]
    }
   ],
   "source": [
    "print(\"Hello there!\\nHow are you?\\nI\\'m doing fine.\")"
   ]
  },
  {
   "cell_type": "code",
   "execution_count": 6,
   "metadata": {},
   "outputs": [
    {
     "name": "stdout",
     "output_type": "stream",
     "text": [
      "That is Carol\\'s cat.\n"
     ]
    }
   ],
   "source": [
    "# generate raw strings by using r before the quotation mark\n",
    "# Useful if a string has many backslashes\n",
    "print(r'That is Carol\\'s cat.')"
   ]
  },
  {
   "cell_type": "code",
   "execution_count": 10,
   "metadata": {},
   "outputs": [
    {
     "name": "stdout",
     "output_type": "stream",
     "text": [
      "Dear Alice,\n",
      "\n",
      "Eve's cat has been arrested for catnapping, cat burglary, and extortion.\n",
      "\n",
      "Sincerely,\n",
      "Bob\n"
     ]
    }
   ],
   "source": [
    "print('''Dear Alice,\n",
    "\n",
    "Eve's cat has been arrested for catnapping, cat burglary, and extortion.\n",
    "\n",
    "Sincerely,\n",
    "Bob''')\n",
    "# Notice that ' does not need to be escaped."
   ]
  },
  {
   "cell_type": "code",
   "execution_count": 9,
   "metadata": {},
   "outputs": [
    {
     "name": "stdout",
     "output_type": "stream",
     "text": [
      "Dear Alice,\n",
      "\n",
      "Eve's cat has been arrested for catnapping, cat burglary, and extortion.\n",
      "\n",
      "Sincerely,\n",
      "Bob\n"
     ]
    }
   ],
   "source": [
    "print('Dear Alice,\\n\\nEve\\'s cat has been arrested for catnapping, cat burglary, and extortion.\\n\\nSincerely,\\nBob')\n"
   ]
  },
  {
   "cell_type": "code",
   "execution_count": 11,
   "metadata": {},
   "outputs": [
    {
     "name": "stdout",
     "output_type": "stream",
     "text": [
      "Hello!\n"
     ]
    }
   ],
   "source": [
    "# a multiline string is often used for comments that span multiple lines\n",
    "def spam():\n",
    "    \"\"\"This is a multiline comment to help explain\n",
    "    what the spam() function does.\"\"\"\n",
    "    print('Hello!')\n",
    "spam()\n",
    "    "
   ]
  },
  {
   "cell_type": "code",
   "execution_count": 13,
   "metadata": {},
   "outputs": [
    {
     "name": "stdout",
     "output_type": "stream",
     "text": [
      "H\n",
      "o\n",
      "!\n",
      "Hello\n",
      "Hello\n",
      "world!\n",
      "Hello\n"
     ]
    }
   ],
   "source": [
    "spam = 'Hello world!'\n",
    "print(spam[0])\n",
    "print(spam[4])\n",
    "print(spam[-1])\n",
    "print(spam[0:5])\n",
    "print(spam[:5])\n",
    "print(spam[6:])\n",
    "fizz = spam[0:5]\n",
    "print(fizz)\n"
   ]
  },
  {
   "cell_type": "code",
   "execution_count": 16,
   "metadata": {},
   "outputs": [
    {
     "name": "stdout",
     "output_type": "stream",
     "text": [
      "True\n",
      "True\n",
      "False\n",
      "True\n",
      "False\n"
     ]
    }
   ],
   "source": [
    "print('Hello' in 'Hello World')\n",
    "print('Hello' in 'Hello')\n",
    "print('HELLO' in 'Hello World')\n",
    "print('' in 'spam')\n",
    "print('cats' not in 'cats and dogs')\n"
   ]
  },
  {
   "cell_type": "code",
   "execution_count": 18,
   "metadata": {},
   "outputs": [
    {
     "name": "stdout",
     "output_type": "stream",
     "text": [
      "HELLO WORLD!\n",
      "hello world!\n"
     ]
    }
   ],
   "source": [
    "spam = 'Hello world!'\n",
    "spamUp = spam.upper()\n",
    "print(spamUp)\n",
    "spamLow = spam.lower()\n",
    "print(spamLow)"
   ]
  },
  {
   "cell_type": "code",
   "execution_count": 19,
   "metadata": {},
   "outputs": [
    {
     "name": "stdout",
     "output_type": "stream",
     "text": [
      "How are you?\n",
      "GrEaT\n",
      "I feel great too.\n"
     ]
    }
   ],
   "source": [
    "print('How are you?')\n",
    "feeling = input()\n",
    "if feeling.lower() == 'great':\n",
    "    print('I feel great too.')\n",
    "else:\n",
    "    print('I hope the rest of your day is good.')"
   ]
  },
  {
   "cell_type": "code",
   "execution_count": 21,
   "metadata": {},
   "outputs": [
    {
     "name": "stdout",
     "output_type": "stream",
     "text": [
      "False\n",
      "False\n",
      "True\n",
      "True\n",
      "False\n",
      "False\n"
     ]
    }
   ],
   "source": [
    "spam = 'Hello world!'\n",
    "print(spam.islower())\n",
    "print(spam.isupper())\n",
    "print('HELLO'.isupper())\n",
    "print('abc12345'.islower())\n",
    "print('12345'.islower())\n",
    "print('12345'.isupper())\n",
    "\n"
   ]
  },
  {
   "cell_type": "code",
   "execution_count": 23,
   "metadata": {},
   "outputs": [
    {
     "name": "stdout",
     "output_type": "stream",
     "text": [
      "HELLO\n",
      "hello\n",
      "HELLO\n",
      "hello\n",
      "True\n"
     ]
    }
   ],
   "source": [
    "print('Hello'.upper())\n",
    "print('Hello'.upper().lower())\n",
    "print('Hello'.upper().lower().upper())\n",
    "print('HELLO'.lower())\n",
    "print('HELLO'.lower().islower())\n"
   ]
  },
  {
   "cell_type": "code",
   "execution_count": 27,
   "metadata": {},
   "outputs": [
    {
     "name": "stdout",
     "output_type": "stream",
     "text": [
      "True\n",
      "False\n",
      "True\n",
      "True\n",
      "True\n",
      "True\n",
      "True\n",
      "True\n",
      "False\n",
      "False\n"
     ]
    }
   ],
   "source": [
    "# isX string methods are helpful to validate user input\n",
    "\"\"\"\n",
    "isalpha() returns True if the string consists only of letters and is not blank.\n",
    "\n",
    "isalnum() returns True if the string consists only of letters and numbers \n",
    "and is not blank.\n",
    "\n",
    "isdecimal() returns True if the string consists only of numeric characters \n",
    "and is not blank.\n",
    "\n",
    "isspace() returns True if the string consists only of spaces, tabs, \n",
    "and new-lines and is not blank.\n",
    "\n",
    "istitle() returns True if the string consists only of words that begin with \n",
    "an uppercase letter followed by only lowercase letters.\n",
    "\"\"\"\n",
    "\n",
    "print('hello'.isalpha())\n",
    "print('hello123'.isalpha())\n",
    "print('hello123'.isalnum())\n",
    "print('hello'.isalnum())\n",
    "print('123'.isdecimal())\n",
    "print('    '.isspace())\n",
    "print('This Is Title Case'.istitle())\n",
    "print('This Is Title Case 123'.istitle())\n",
    "print('This Is not Title Case'.istitle())\n",
    "print('This is NOT Title Case Either'.istitle())\n",
    "\n"
   ]
  },
  {
   "cell_type": "code",
   "execution_count": 28,
   "metadata": {},
   "outputs": [
    {
     "name": "stdout",
     "output_type": "stream",
     "text": [
      "Enter your age:\n",
      "three\n",
      "Please enter a number for your age.\n",
      "Enter your age:\n",
      "ten\n",
      "Please enter a number for your age.\n",
      "Enter your age:\n",
      "1x\n",
      "Please enter a number for your age.\n",
      "Enter your age:\n",
      "10\n",
      "Select a new password (letters and numbers only):\n",
      "1231 1231\n",
      "Passwords can only have letters and numbers.\n",
      "Select a new password (letters and numbers only):\n",
      "123asb\n"
     ]
    }
   ],
   "source": [
    "while True:\n",
    "    print('Enter your age:')\n",
    "    age = input()\n",
    "    if age.isdecimal():\n",
    "        break\n",
    "    print('Please enter a number for your age.')\n",
    "\n",
    "while True:\n",
    "    print('Select a new password (letters and numbers only):')\n",
    "    password = input()\n",
    "    if password.isalnum():\n",
    "        break\n",
    "    print('Passwords can only have letters and numbers.')\n",
    "    "
   ]
  },
  {
   "cell_type": "code",
   "execution_count": 30,
   "metadata": {},
   "outputs": [
    {
     "name": "stdout",
     "output_type": "stream",
     "text": [
      "True\n",
      "True\n",
      "False\n",
      "False\n",
      "True\n",
      "True\n"
     ]
    }
   ],
   "source": [
    "print('Hello world!'.startswith('Hello'))\n",
    "print('Hello world!'.endswith('world!'))\n",
    "print('abc123'.startswith('abcdef'))\n",
    "print('abc123'.endswith('12'))\n",
    "print('Hello world!'.startswith('Hello world!'))\n",
    "print('Hello world!'.endswith('Hello world!'))"
   ]
  },
  {
   "cell_type": "code",
   "execution_count": 4,
   "metadata": {},
   "outputs": [
    {
     "name": "stdout",
     "output_type": "stream",
     "text": [
      "cats, rats, bats\n",
      "My name is Simon\n",
      "MyABCnameABCisABCSimon\n",
      "['My', 'name', 'is', 'Simon']\n",
      "['My name is Simon']\n",
      "['My na', 'e is Si', 'on']\n"
     ]
    }
   ],
   "source": [
    "# join() and split()\n",
    "print(', '.join(['cats', 'rats', 'bats']))\n",
    "print(' '.join(['My', 'name', 'is', 'Simon']))\n",
    "print('ABC'.join(['My', 'name', 'is', 'Simon']))\n",
    "\n",
    "print('My name is Simon'.split())\n",
    "print('My name is Simon'.split('ABC'))\n",
    "print('My name is Simon'.split('m'))"
   ]
  },
  {
   "cell_type": "code",
   "execution_count": 5,
   "metadata": {},
   "outputs": [
    {
     "data": {
      "text/plain": [
       "['Dear Alice, ',\n",
       " 'How have you been? I am fine. ',\n",
       " 'There is a container in the fridge that is labeled \"Milk Experiment\".',\n",
       " '',\n",
       " 'Please do not drink it.',\n",
       " 'Sincerely,',\n",
       " 'Bob']"
      ]
     },
     "execution_count": 5,
     "metadata": {},
     "output_type": "execute_result"
    }
   ],
   "source": [
    "spam = '''Dear Alice, \n",
    "How have you been? I am fine. \n",
    "There is a container in the fridge that is labeled \"Milk Experiment\".\n",
    "\n",
    "Please do not drink it.\n",
    "Sincerely,\n",
    "Bob'''\n",
    "\n",
    "spam.split('\\n')\n"
   ]
  },
  {
   "cell_type": "code",
   "execution_count": 6,
   "metadata": {},
   "outputs": [
    {
     "name": "stdout",
     "output_type": "stream",
     "text": [
      "     Hello\n",
      "               Hello\n",
      "         Hello World\n",
      "Hello     \n",
      "*****Hello\n",
      "Hello-----\n",
      "       Hello        \n",
      "=======Hello========\n"
     ]
    }
   ],
   "source": [
    "# rjust(), ljust(), center()\n",
    "print('Hello'.rjust(10))\n",
    "print('Hello'.rjust(20))\n",
    "print('Hello World'.rjust(20))\n",
    "print('Hello'.ljust(10))\n",
    "print('Hello'.rjust(10, '*'))\n",
    "print('Hello'.ljust(10, '-'))\n",
    "print('Hello'.center(20))\n",
    "print('Hello'.center(20,'='))"
   ]
  },
  {
   "cell_type": "code",
   "execution_count": 7,
   "metadata": {},
   "outputs": [
    {
     "name": "stdout",
     "output_type": "stream",
     "text": [
      "---PICNIC ITEMS--\n",
      "sandwiches..    4\n",
      "apples......   12\n",
      "cups........    4\n",
      "cookies..... 8000\n",
      "---------PICNIC ITEMS---------\n",
      "sandwiches..........         4\n",
      "apples..............        12\n",
      "cups................         4\n",
      "cookies.............      8000\n"
     ]
    }
   ],
   "source": [
    "def printPicnic(itemsDict, leftWidth, rightWidth):\n",
    "    print('PICNIC ITEMS'.center(leftWidth + rightWidth, '-'))\n",
    "    for k, v in itemsDict.items():\n",
    "        print(k.ljust(leftWidth, '.') + str(v).rjust(rightWidth))\n",
    "        \n",
    "picnicItems = {'sandwiches': 4, 'apples': 12, 'cups': 4, 'cookies': 8000}\n",
    "printPicnic(picnicItems, 12, 5)\n",
    "printPicnic(picnicItems, 20, 10)"
   ]
  },
  {
   "cell_type": "code",
   "execution_count": 11,
   "metadata": {},
   "outputs": [
    {
     "name": "stdout",
     "output_type": "stream",
     "text": [
      "Hello World\n",
      "     Hello World\n",
      "Hello World    \n"
     ]
    },
    {
     "data": {
      "text/plain": [
       "'BaconSpamEggs'"
      ]
     },
     "execution_count": 11,
     "metadata": {},
     "output_type": "execute_result"
    }
   ],
   "source": [
    "# strip(), rstrip(), lstrip() to remove whitespace\n",
    "spam = '     Hello World    '\n",
    "print(spam.strip())\n",
    "print(spam.rstrip())\n",
    "print(spam.lstrip())\n",
    "\n",
    "spam = 'SpamSpamBaconSpamEggsSpamSpam'\n",
    "spam.strip('ampS') # removes all occurances of a, m, p, and S from ends of string\n",
    "spam.strip('Spam') \n"
   ]
  },
  {
   "cell_type": "code",
   "execution_count": 15,
   "metadata": {},
   "outputs": [
    {
     "name": "stdout",
     "output_type": "stream",
     "text": [
      "Hello World!\n"
     ]
    }
   ],
   "source": [
    "# copying and pasting strings with pyperclip module\n",
    "#import sys\n",
    "#!{sys.executable} -m pip install pyperclip\n",
    "\n",
    "import pyperclip\n",
    "pyperclip.copy('Hello World!')\n",
    "print(pyperclip.paste())"
   ]
  },
  {
   "cell_type": "code",
   "execution_count": 16,
   "metadata": {},
   "outputs": [
    {
     "data": {
      "text/plain": [
       "\"'For example, if I copied this sentence to the clipboard and then called\\r\\npaste(), it would look like this:'\""
      ]
     },
     "execution_count": 16,
     "metadata": {},
     "output_type": "execute_result"
    }
   ],
   "source": [
    "pyperclip.paste()"
   ]
  },
  {
   "cell_type": "code",
   "execution_count": null,
   "metadata": {},
   "outputs": [],
   "source": []
  }
 ],
 "metadata": {
  "kernelspec": {
   "display_name": "Python 3",
   "language": "python",
   "name": "python3"
  },
  "language_info": {
   "codemirror_mode": {
    "name": "ipython",
    "version": 3
   },
   "file_extension": ".py",
   "mimetype": "text/x-python",
   "name": "python",
   "nbconvert_exporter": "python",
   "pygments_lexer": "ipython3",
   "version": "3.6.5"
  }
 },
 "nbformat": 4,
 "nbformat_minor": 2
}
