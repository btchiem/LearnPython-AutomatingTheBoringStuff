{
 "cells": [
  {
   "cell_type": "code",
   "execution_count": 3,
   "metadata": {},
   "outputs": [
    {
     "name": "stdout",
     "output_type": "stream",
     "text": [
      "True\n",
      "False\n",
      "\n",
      "False\n",
      "True\n",
      "\n",
      "True\n",
      "False\n",
      "\n",
      "False\n",
      "True\n",
      "\n",
      "True\n",
      "True\n",
      "False\n",
      "\n",
      "False\n",
      "True\n",
      "True\n",
      "\n"
     ]
    }
   ],
   "source": [
    "# Comparison Operators\n",
    "# == Equal To\n",
    "print(3 == 3)\n",
    "print(3 == 4)\n",
    "print()\n",
    "\n",
    "# != Not Equal To\n",
    "print(3 != 3)\n",
    "print(3 != 4)\n",
    "print()\n",
    "\n",
    "# < Less Than\n",
    "print(3 < 4)\n",
    "print(3 < 2)\n",
    "print()\n",
    "\n",
    "# > Greater Than\n",
    "print(3 > 4)\n",
    "print(3 > 2)\n",
    "print()\n",
    "\n",
    "# <= Less Than or Equal To\n",
    "print(3 <= 4)\n",
    "print(3 <= 3)\n",
    "print(3 <= 2)\n",
    "print()\n",
    "\n",
    "# >= Greater Than or Equal To\n",
    "print(3 >= 4)\n",
    "print(3 >= 3)\n",
    "print(3 >= 2)\n",
    "print()"
   ]
  },
  {
   "cell_type": "code",
   "execution_count": 5,
   "metadata": {},
   "outputs": [
    {
     "name": "stdout",
     "output_type": "stream",
     "text": [
      "True\n",
      "False\n",
      "False\n",
      "False\n"
     ]
    }
   ],
   "source": [
    "# And Operator Table\n",
    "print(True and True) # T\n",
    "print(True and False) # F\n",
    "print(False and True) # F\n",
    "print(False and False) # F"
   ]
  },
  {
   "cell_type": "code",
   "execution_count": 6,
   "metadata": {},
   "outputs": [
    {
     "name": "stdout",
     "output_type": "stream",
     "text": [
      "True\n",
      "True\n",
      "True\n",
      "False\n"
     ]
    }
   ],
   "source": [
    "# Or Operator Table\n",
    "# If either of the two booleans are True, it is True\n",
    "# If both are false, it is False\n",
    "print(True or True) # T\n",
    "print(True or False) # T\n",
    "print(False or True) # T\n",
    "print(False or False) # F"
   ]
  },
  {
   "cell_type": "code",
   "execution_count": 7,
   "metadata": {},
   "outputs": [
    {
     "name": "stdout",
     "output_type": "stream",
     "text": [
      "False\n",
      "True\n"
     ]
    }
   ],
   "source": [
    "# Not Operator Table\n",
    "print(not True) # F\n",
    "print(not False) # T"
   ]
  },
  {
   "cell_type": "code",
   "execution_count": 9,
   "metadata": {},
   "outputs": [
    {
     "name": "stdout",
     "output_type": "stream",
     "text": [
      "True\n",
      "False\n",
      "True\n"
     ]
    }
   ],
   "source": [
    "# Mixing Comparators\n",
    "print((4 < 5) and (5 < 6))\n",
    "print((4 < 5) and (9 < 6))\n",
    "print((1 == 2) or (2 == 2))"
   ]
  },
  {
   "cell_type": "code",
   "execution_count": 14,
   "metadata": {},
   "outputs": [
    {
     "name": "stdout",
     "output_type": "stream",
     "text": [
      "Whats your age again? Between 12 and 100\n"
     ]
    }
   ],
   "source": [
    "name = 'Dracula'\n",
    "age = 40\n",
    "if name == 'Alice':\n",
    "    print('Hi, Alice.')\n",
    "elif age < 12:\n",
    "    print('You are not Alice, kiddo.')\n",
    "elif age > 2000:\n",
    "    print('Unlike you, Alice is not an undead, immortal vampire.')\n",
    "elif age > 100:\n",
    "    print('You are not Alice, grannie.')\n",
    "else:\n",
    "    print('Whats your age again? Between 12 and 100')"
   ]
  },
  {
   "cell_type": "code",
   "execution_count": 16,
   "metadata": {},
   "outputs": [
    {
     "name": "stdout",
     "output_type": "stream",
     "text": [
      "Hello World.\n",
      "Hello World.\n",
      "Hello World.\n",
      "Hello World.\n",
      "Hello World.\n"
     ]
    }
   ],
   "source": [
    "# While Loop\n",
    "spam = 0\n",
    "while spam < 5:\n",
    "    print('Hello World.')\n",
    "    spam += 1\n"
   ]
  },
  {
   "cell_type": "code",
   "execution_count": 17,
   "metadata": {
    "scrolled": true
   },
   "outputs": [
    {
     "name": "stdout",
     "output_type": "stream",
     "text": [
      "Please type \"your name\"\n",
      "a\n",
      "Please type \"your name\"\n",
      "b\n",
      "Please type \"your name\"\n",
      "c\n",
      "Please type \"your name\"\n",
      "aasda\n",
      "Please type \"your name\"\n",
      "1231231\n",
      "Please type \"your name\"\n",
      "your name\n",
      "Thanks\n"
     ]
    }
   ],
   "source": [
    "name = ''\n",
    "while name != 'your name':\n",
    "    print('Please type \"your name\"')\n",
    "    name = input()\n",
    "print('Thanks')"
   ]
  },
  {
   "cell_type": "code",
   "execution_count": 18,
   "metadata": {},
   "outputs": [
    {
     "name": "stdout",
     "output_type": "stream",
     "text": [
      "Please type \"your name\"\n",
      "a\n",
      "Please type \"your name\"\n",
      "b\n",
      "Please type \"your name\"\n",
      "c\n",
      "Please type \"your name\"\n",
      "d\n",
      "Please type \"your name\"\n",
      "a12312\n",
      "Please type \"your name\"\n",
      "asdas\n",
      "Please type \"your name\"\n",
      "your name\n",
      "Thanks\n"
     ]
    }
   ],
   "source": [
    "# Using 'break' to exit the loop\n",
    "while True:\n",
    "    print('Please type \"your name\"')\n",
    "    name = input()\n",
    "    if name == 'your name':\n",
    "        break\n",
    "print('Thanks')"
   ]
  },
  {
   "cell_type": "code",
   "execution_count": 19,
   "metadata": {},
   "outputs": [
    {
     "name": "stdout",
     "output_type": "stream",
     "text": [
      "Who are you?\n",
      "a\n",
      "Who are you?\n",
      "ab\n",
      "Who are you?\n",
      "sdada\n",
      "Who are you?\n",
      "Joe\n",
      "Hello, Joe. What is the password? (Hint: It is a fish)\n",
      "asda\n",
      "Who are you?\n",
      "Joe\n",
      "Hello, Joe. What is the password? (Hint: It is a fish)\n",
      "swordfish\n",
      "Access Granted\n"
     ]
    }
   ],
   "source": [
    "# Using 'continue' to return to beginning of the loop\n",
    "while True:\n",
    "    print('Who are you?')\n",
    "    name = input()\n",
    "    if name != 'Joe':\n",
    "        continue\n",
    "    print('Hello, Joe. What is the password? (Hint: It is a fish)')\n",
    "    password = input()\n",
    "    if password == 'swordfish':\n",
    "        break\n",
    "print('Access Granted')"
   ]
  },
  {
   "cell_type": "code",
   "execution_count": 22,
   "metadata": {},
   "outputs": [
    {
     "name": "stdout",
     "output_type": "stream",
     "text": [
      "Enter your name\n",
      "3\n",
      "How many guests will you have?\n",
      "3\n",
      "Be sure to have enough room for all your guests\n",
      "Done\n"
     ]
    }
   ],
   "source": [
    "# 0, 0.0 and '' (empty string) are considered False\n",
    "# All other values are considered True\n",
    "\n",
    "name = ''\n",
    "while not name:\n",
    "    print('Enter your name')\n",
    "    name = input()\n",
    "print('How many guests will you have?')\n",
    "numOfGuests = int(input())\n",
    "if numOfGuests:\n",
    "    print('Be sure to have enough room for all your guests')\n",
    "print('Done')\n"
   ]
  },
  {
   "cell_type": "code",
   "execution_count": 23,
   "metadata": {},
   "outputs": [
    {
     "name": "stdout",
     "output_type": "stream",
     "text": [
      "My name is\n",
      "Jimmy Five Times(0)\n",
      "Jimmy Five Times(1)\n",
      "Jimmy Five Times(2)\n",
      "Jimmy Five Times(3)\n",
      "Jimmy Five Times(4)\n"
     ]
    }
   ],
   "source": [
    "# For loops\n",
    "print('My name is')\n",
    "for i in range(5):\n",
    "    print('Jimmy Five Times(' + str(i) + ')')"
   ]
  },
  {
   "cell_type": "code",
   "execution_count": 24,
   "metadata": {},
   "outputs": [
    {
     "name": "stdout",
     "output_type": "stream",
     "text": [
      "5050\n"
     ]
    }
   ],
   "source": [
    "total = 0\n",
    "for num in range(101):\n",
    "    total = total + num\n",
    "print(total)"
   ]
  },
  {
   "cell_type": "code",
   "execution_count": 26,
   "metadata": {},
   "outputs": [
    {
     "name": "stdout",
     "output_type": "stream",
     "text": [
      "My name is\n",
      "Jimmy Five Times(0)\n",
      "Jimmy Five Times(1)\n",
      "Jimmy Five Times(2)\n",
      "Jimmy Five Times(3)\n",
      "Jimmy Five Times(4)\n"
     ]
    }
   ],
   "source": [
    "print('My name is')\n",
    "i = 0\n",
    "while i < 5:\n",
    "    print('Jimmy Five Times(' + str(i) +')')\n",
    "    i = i + 1\n"
   ]
  },
  {
   "cell_type": "code",
   "execution_count": 28,
   "metadata": {},
   "outputs": [
    {
     "name": "stdout",
     "output_type": "stream",
     "text": [
      "12\n",
      "13\n",
      "14\n",
      "15\n"
     ]
    }
   ],
   "source": [
    "# Start, Stopping and Stepping Arguments to range()\n",
    "for i in range(12, 16):\n",
    "    print(i)"
   ]
  },
  {
   "cell_type": "code",
   "execution_count": 29,
   "metadata": {},
   "outputs": [
    {
     "name": "stdout",
     "output_type": "stream",
     "text": [
      "0\n",
      "2\n",
      "4\n",
      "6\n",
      "8\n"
     ]
    }
   ],
   "source": [
    "for i in range(0, 10, 2):\n",
    "    print(i)"
   ]
  },
  {
   "cell_type": "code",
   "execution_count": 30,
   "metadata": {},
   "outputs": [
    {
     "name": "stdout",
     "output_type": "stream",
     "text": [
      "5\n",
      "4\n",
      "3\n",
      "2\n",
      "1\n",
      "0\n"
     ]
    }
   ],
   "source": [
    "for i in range(5, -1, -1):\n",
    "    print(i)"
   ]
  },
  {
   "cell_type": "code",
   "execution_count": 31,
   "metadata": {},
   "outputs": [
    {
     "name": "stdout",
     "output_type": "stream",
     "text": [
      "9\n",
      "1\n",
      "5\n",
      "5\n",
      "7\n"
     ]
    }
   ],
   "source": [
    "# Importing Libraries\n",
    "import random\n",
    "for i in range(5):\n",
    "    print(random.randint(1,10))"
   ]
  },
  {
   "cell_type": "code",
   "execution_count": 32,
   "metadata": {},
   "outputs": [],
   "source": [
    "# How to import four different modules\n",
    "import random, sys, os, math"
   ]
  },
  {
   "cell_type": "code",
   "execution_count": 33,
   "metadata": {},
   "outputs": [
    {
     "name": "stdout",
     "output_type": "stream",
     "text": [
      "5\n"
     ]
    }
   ],
   "source": [
    "# Alternative import statements\n",
    "# This enables users to omit the random. prefix when calling functions but\n",
    "# reduces readability\n",
    "\n",
    "# Recommended to use standard method to import\n",
    "\n",
    "from random import *\n",
    "print(randint(1,10))"
   ]
  },
  {
   "cell_type": "code",
   "execution_count": 34,
   "metadata": {},
   "outputs": [
    {
     "name": "stdout",
     "output_type": "stream",
     "text": [
      "Type exit to exit.\n",
      "a\n",
      "You typed a.\n",
      "Type exit to exit.\n",
      "exit\n"
     ]
    },
    {
     "ename": "SystemExit",
     "evalue": "",
     "output_type": "error",
     "traceback": [
      "An exception has occurred, use %tb to see the full traceback.\n",
      "\u001b[1;31mSystemExit\u001b[0m\n"
     ]
    },
    {
     "name": "stderr",
     "output_type": "stream",
     "text": [
      "C:\\ProgramData\\Anaconda3\\lib\\site-packages\\IPython\\core\\interactiveshell.py:2971: UserWarning: To exit: use 'exit', 'quit', or Ctrl-D.\n",
      "  warn(\"To exit: use 'exit', 'quit', or Ctrl-D.\", stacklevel=1)\n"
     ]
    }
   ],
   "source": [
    "import sys\n",
    "while True:\n",
    "    print('Type exit to exit.')\n",
    "    response = input()\n",
    "    if response == 'exit':\n",
    "        sys.exit()\n",
    "    print('You typed ' + response + '.')\n",
    "# This code works in IDLE, maybe not in Jupyter Notebook"
   ]
  },
  {
   "cell_type": "code",
   "execution_count": null,
   "metadata": {},
   "outputs": [],
   "source": []
  }
 ],
 "metadata": {
  "kernelspec": {
   "display_name": "Python 3",
   "language": "python",
   "name": "python3"
  },
  "language_info": {
   "codemirror_mode": {
    "name": "ipython",
    "version": 3
   },
   "file_extension": ".py",
   "mimetype": "text/x-python",
   "name": "python",
   "nbconvert_exporter": "python",
   "pygments_lexer": "ipython3",
   "version": "3.6.5"
  }
 },
 "nbformat": 4,
 "nbformat_minor": 2
}
